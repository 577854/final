{
 "cells": [
  {
   "cell_type": "markdown",
   "metadata": {},
   "source": [
    "# Maskinlæring innlevering 2\n",
    "## forrutse om en person i USA tjener mer eller mindre enn 50 tusen dollar"
   ]
  },
  {
   "cell_type": "markdown",
   "metadata": {},
   "source": [
    "Ifølge oppgaven skal vi forrutse om en person tjener mer eller mindre enn 50 tusen dollar i året i USA. \n",
    "\n",
    "Vi følger metodene som vi brukte i forrige innlevering:\n",
    "\n",
    "1. Hent data og les om hva dataene omhandler\n",
    "2. Utforsk datene\n",
    "3. Forbered dataene for trening og maskinlæringsalgoritmer\n",
    "4. Utforsk hvilke modeller som burde fungere bra på dette datasettet\n",
    "5. Fiks opp i modellene og kombiner de beste sammen\n",
    "6. Presenter løsningen\n",
    "7. Deploy/rull ut løsningen og forbered løsningen på viderehåndtering"
   ]
  },
  {
   "cell_type": "markdown",
   "metadata": {},
   "source": [
    "### 1. Hent data "
   ]
  },
  {
   "cell_type": "code",
   "execution_count": 1,
   "metadata": {},
   "outputs": [],
   "source": [
    "import numpy as np\n",
    "import pandas as pd\n",
    "import matplotlib.pyplot as plt\n",
    "import sklearn\n",
    "import os\n",
    "import seaborn as sns\n",
    "\n",
    "# Setter random seed for å gjøre resultatene reproduserbare.\n",
    "np.random.seed(38)\n",
    "\n",
    "# For at grafer skal vises ordentlig i notebooken:\n",
    "%matplotlib inline"
   ]
  },
  {
   "cell_type": "code",
   "execution_count": 2,
   "metadata": {},
   "outputs": [],
   "source": [
    "def lastData():\n",
    "    csvPath = os.path.join(\"data\", \"adult.csv\")\n",
    "    return pd.read_csv(csvPath)\n"
   ]
  },
  {
   "cell_type": "code",
   "execution_count": 3,
   "metadata": {},
   "outputs": [],
   "source": [
    "data = lastData()"
   ]
  },
  {
   "cell_type": "code",
   "execution_count": 4,
   "metadata": {},
   "outputs": [
    {
     "data": {
      "text/html": [
       "<div>\n",
       "<style scoped>\n",
       "    .dataframe tbody tr th:only-of-type {\n",
       "        vertical-align: middle;\n",
       "    }\n",
       "\n",
       "    .dataframe tbody tr th {\n",
       "        vertical-align: top;\n",
       "    }\n",
       "\n",
       "    .dataframe thead th {\n",
       "        text-align: right;\n",
       "    }\n",
       "</style>\n",
       "<table border=\"1\" class=\"dataframe\">\n",
       "  <thead>\n",
       "    <tr style=\"text-align: right;\">\n",
       "      <th></th>\n",
       "      <th>age</th>\n",
       "      <th>workclass</th>\n",
       "      <th>fnlwgt</th>\n",
       "      <th>education</th>\n",
       "      <th>education.num</th>\n",
       "      <th>marital.status</th>\n",
       "      <th>occupation</th>\n",
       "      <th>relationship</th>\n",
       "      <th>race</th>\n",
       "      <th>sex</th>\n",
       "      <th>capital.gain</th>\n",
       "      <th>capital.loss</th>\n",
       "      <th>hours.per.week</th>\n",
       "      <th>native.country</th>\n",
       "      <th>income</th>\n",
       "    </tr>\n",
       "  </thead>\n",
       "  <tbody>\n",
       "    <tr>\n",
       "      <th>0</th>\n",
       "      <td>90</td>\n",
       "      <td>?</td>\n",
       "      <td>77053</td>\n",
       "      <td>HS-grad</td>\n",
       "      <td>9</td>\n",
       "      <td>Widowed</td>\n",
       "      <td>?</td>\n",
       "      <td>Not-in-family</td>\n",
       "      <td>White</td>\n",
       "      <td>Female</td>\n",
       "      <td>0</td>\n",
       "      <td>4356</td>\n",
       "      <td>40</td>\n",
       "      <td>United-States</td>\n",
       "      <td>&lt;=50K</td>\n",
       "    </tr>\n",
       "    <tr>\n",
       "      <th>1</th>\n",
       "      <td>82</td>\n",
       "      <td>Private</td>\n",
       "      <td>132870</td>\n",
       "      <td>HS-grad</td>\n",
       "      <td>9</td>\n",
       "      <td>Widowed</td>\n",
       "      <td>Exec-managerial</td>\n",
       "      <td>Not-in-family</td>\n",
       "      <td>White</td>\n",
       "      <td>Female</td>\n",
       "      <td>0</td>\n",
       "      <td>4356</td>\n",
       "      <td>18</td>\n",
       "      <td>United-States</td>\n",
       "      <td>&lt;=50K</td>\n",
       "    </tr>\n",
       "    <tr>\n",
       "      <th>2</th>\n",
       "      <td>66</td>\n",
       "      <td>?</td>\n",
       "      <td>186061</td>\n",
       "      <td>Some-college</td>\n",
       "      <td>10</td>\n",
       "      <td>Widowed</td>\n",
       "      <td>?</td>\n",
       "      <td>Unmarried</td>\n",
       "      <td>Black</td>\n",
       "      <td>Female</td>\n",
       "      <td>0</td>\n",
       "      <td>4356</td>\n",
       "      <td>40</td>\n",
       "      <td>United-States</td>\n",
       "      <td>&lt;=50K</td>\n",
       "    </tr>\n",
       "    <tr>\n",
       "      <th>3</th>\n",
       "      <td>54</td>\n",
       "      <td>Private</td>\n",
       "      <td>140359</td>\n",
       "      <td>7th-8th</td>\n",
       "      <td>4</td>\n",
       "      <td>Divorced</td>\n",
       "      <td>Machine-op-inspct</td>\n",
       "      <td>Unmarried</td>\n",
       "      <td>White</td>\n",
       "      <td>Female</td>\n",
       "      <td>0</td>\n",
       "      <td>3900</td>\n",
       "      <td>40</td>\n",
       "      <td>United-States</td>\n",
       "      <td>&lt;=50K</td>\n",
       "    </tr>\n",
       "    <tr>\n",
       "      <th>4</th>\n",
       "      <td>41</td>\n",
       "      <td>Private</td>\n",
       "      <td>264663</td>\n",
       "      <td>Some-college</td>\n",
       "      <td>10</td>\n",
       "      <td>Separated</td>\n",
       "      <td>Prof-specialty</td>\n",
       "      <td>Own-child</td>\n",
       "      <td>White</td>\n",
       "      <td>Female</td>\n",
       "      <td>0</td>\n",
       "      <td>3900</td>\n",
       "      <td>40</td>\n",
       "      <td>United-States</td>\n",
       "      <td>&lt;=50K</td>\n",
       "    </tr>\n",
       "  </tbody>\n",
       "</table>\n",
       "</div>"
      ],
      "text/plain": [
       "   age workclass  fnlwgt     education  education.num marital.status  \\\n",
       "0   90         ?   77053       HS-grad              9        Widowed   \n",
       "1   82   Private  132870       HS-grad              9        Widowed   \n",
       "2   66         ?  186061  Some-college             10        Widowed   \n",
       "3   54   Private  140359       7th-8th              4       Divorced   \n",
       "4   41   Private  264663  Some-college             10      Separated   \n",
       "\n",
       "          occupation   relationship   race     sex  capital.gain  \\\n",
       "0                  ?  Not-in-family  White  Female             0   \n",
       "1    Exec-managerial  Not-in-family  White  Female             0   \n",
       "2                  ?      Unmarried  Black  Female             0   \n",
       "3  Machine-op-inspct      Unmarried  White  Female             0   \n",
       "4     Prof-specialty      Own-child  White  Female             0   \n",
       "\n",
       "   capital.loss  hours.per.week native.country income  \n",
       "0          4356              40  United-States  <=50K  \n",
       "1          4356              18  United-States  <=50K  \n",
       "2          4356              40  United-States  <=50K  \n",
       "3          3900              40  United-States  <=50K  \n",
       "4          3900              40  United-States  <=50K  "
      ]
     },
     "execution_count": 4,
     "metadata": {},
     "output_type": "execute_result"
    }
   ],
   "source": [
    "data.head()"
   ]
  },
  {
   "cell_type": "markdown",
   "metadata": {},
   "source": [
    "En kjapp titt på datasettet viser at vi har mange ikke numeriske datafelt. Flere av datafeltene inneholder ?. "
   ]
  },
  {
   "cell_type": "code",
   "execution_count": 5,
   "metadata": {},
   "outputs": [
    {
     "name": "stdout",
     "output_type": "stream",
     "text": [
      "<class 'pandas.core.frame.DataFrame'>\n",
      "RangeIndex: 32561 entries, 0 to 32560\n",
      "Data columns (total 15 columns):\n",
      " #   Column          Non-Null Count  Dtype \n",
      "---  ------          --------------  ----- \n",
      " 0   age             32561 non-null  int64 \n",
      " 1   workclass       32561 non-null  object\n",
      " 2   fnlwgt          32561 non-null  int64 \n",
      " 3   education       32561 non-null  object\n",
      " 4   education.num   32561 non-null  int64 \n",
      " 5   marital.status  32561 non-null  object\n",
      " 6   occupation      32561 non-null  object\n",
      " 7   relationship    32561 non-null  object\n",
      " 8   race            32561 non-null  object\n",
      " 9   sex             32561 non-null  object\n",
      " 10  capital.gain    32561 non-null  int64 \n",
      " 11  capital.loss    32561 non-null  int64 \n",
      " 12  hours.per.week  32561 non-null  int64 \n",
      " 13  native.country  32561 non-null  object\n",
      " 14  income          32561 non-null  object\n",
      "dtypes: int64(6), object(9)\n",
      "memory usage: 3.7+ MB\n"
     ]
    }
   ],
   "source": [
    "data.info()"
   ]
  },
  {
   "cell_type": "markdown",
   "metadata": {},
   "source": [
    "Ser at der er ingen null verdier i datasettet, men det er flere felter som er fyllt ut med ?. Disse feltene er felter som muligens burde vært null. La os sjekke om det er noen datafelter som har en sterk korelasjon til inntekten slik at vi kan lage et representativt testsett."
   ]
  },
  {
   "cell_type": "code",
   "execution_count": 6,
   "metadata": {},
   "outputs": [],
   "source": [
    "uaData = data.copy()\n",
    "nonNumCol=['workclass', 'education', 'marital.status',\n",
    "           'occupation', 'relationship', 'race', 'sex',\n",
    "           'native.country', 'income']"
   ]
  },
  {
   "cell_type": "code",
   "execution_count": 7,
   "metadata": {},
   "outputs": [],
   "source": [
    "def changeToCat(data, nonNumCol):    \n",
    "    for column in nonNumCol:\n",
    "        data[column] = data[column].astype('category').cat.codes"
   ]
  },
  {
   "cell_type": "code",
   "execution_count": 8,
   "metadata": {},
   "outputs": [
    {
     "data": {
      "text/plain": [
       "income            1.000000\n",
       "education.num     0.335154\n",
       "age               0.234037\n",
       "hours.per.week    0.229689\n",
       "capital.gain      0.223329\n",
       "sex               0.215980\n",
       "capital.loss      0.150526\n",
       "education         0.079317\n",
       "occupation        0.075468\n",
       "race              0.071846\n",
       "workclass         0.051604\n",
       "native.country    0.015840\n",
       "fnlwgt           -0.009463\n",
       "marital.status   -0.199307\n",
       "relationship     -0.250918\n",
       "Name: income, dtype: float64"
      ]
     },
     "execution_count": 8,
     "metadata": {},
     "output_type": "execute_result"
    }
   ],
   "source": [
    "changeToCat(data, nonNumCol)\n",
    "kor=data.corr()\n",
    "kor['income'].sort_values(ascending = False)"
   ]
  },
  {
   "cell_type": "markdown",
   "metadata": {},
   "source": [
    "Her er ingen datafelt som utmerker seg som spesielt viktig. Vi kan derfor ta ut et tilfelding test set. fnlwgt utmerker seg som spesielt uviktig, vi kan dermed fjerne denne."
   ]
  },
  {
   "cell_type": "markdown",
   "metadata": {},
   "source": [
    "### 2. Utforsk dataene"
   ]
  },
  {
   "cell_type": "code",
   "execution_count": 9,
   "metadata": {},
   "outputs": [],
   "source": [
    "from sklearn.model_selection import train_test_split\n",
    "\n",
    "targets = uaData['income']\n",
    "splitData = uaData.drop(['income'], axis=1)\n",
    "\n",
    "dataTrain, dataTest, trainTarget, testTarget = train_test_split(splitData, targets, test_size = 0.3)\n",
    "\n",
    "data=dataTrain.copy()\n",
    "data['income'] = trainTarget"
   ]
  },
  {
   "cell_type": "markdown",
   "metadata": {},
   "source": [
    "Under kan vi se mye info fra hver attributt. for eksempel kan vi se at det er dobbelt så mange menn enn kvinner i datasettet. Mange av disse mennene er hvite og gifte. De fleste jobber i privat sektor og de aller fleste har en videregående utdanning etterfulgt av ungdomsskolen. en kan også se at det er flest som jobber 40 timer i uken og detter er en representativt for en vanlig 8 timers arbeidsag. "
   ]
  },
  {
   "cell_type": "code",
   "execution_count": 10,
   "metadata": {},
   "outputs": [
    {
     "name": "stdout",
     "output_type": "stream",
     "text": [
      "Private             15896\n",
      "Self-emp-not-inc     1767\n",
      "Local-gov            1474\n",
      "?                    1265\n",
      "State-gov             917\n",
      "Self-emp-inc          780\n",
      "Federal-gov           680\n",
      "Without-pay             8\n",
      "Never-worked            5\n",
      "Name: workclass, dtype: int64\n",
      "-------------------------\n",
      "HS-grad         7285\n",
      "Some-college    5092\n",
      "Bachelors       3702\n",
      "Masters         1267\n",
      "Assoc-voc        972\n",
      "11th             840\n",
      "Assoc-acdm       764\n",
      "10th             663\n",
      "7th-8th          448\n",
      "Prof-school      404\n",
      "9th              375\n",
      "12th             301\n",
      "Doctorate        290\n",
      "5th-6th          232\n",
      "1st-4th          124\n",
      "Preschool         33\n",
      "Name: education, dtype: int64\n",
      "-------------------------\n",
      "Married-civ-spouse       10492\n",
      "Never-married             7451\n",
      "Divorced                  3129\n",
      "Separated                  711\n",
      "Widowed                    706\n",
      "Married-spouse-absent      286\n",
      "Married-AF-spouse           17\n",
      "Name: marital.status, dtype: int64\n",
      "-------------------------\n",
      "Prof-specialty       2933\n",
      "Craft-repair         2885\n",
      "Exec-managerial      2860\n",
      "Adm-clerical         2605\n",
      "Sales                2552\n",
      "Other-service        2278\n",
      "Machine-op-inspct    1384\n",
      "?                    1270\n",
      "Transport-moving     1120\n",
      "Handlers-cleaners     946\n",
      "Farming-fishing       718\n",
      "Tech-support          669\n",
      "Protective-serv       461\n",
      "Priv-house-serv       104\n",
      "Armed-Forces            7\n",
      "Name: occupation, dtype: int64\n",
      "-------------------------\n",
      "Husband           9236\n",
      "Not-in-family     5874\n",
      "Own-child         3500\n",
      "Unmarried         2413\n",
      "Wife              1100\n",
      "Other-relative     669\n",
      "Name: relationship, dtype: int64\n",
      "-------------------------\n",
      "White                 19501\n",
      "Black                  2171\n",
      "Asian-Pac-Islander      719\n",
      "Amer-Indian-Eskimo      214\n",
      "Other                   187\n",
      "Name: race, dtype: int64\n",
      "-------------------------\n",
      "Male      15206\n",
      "Female     7586\n",
      "Name: sex, dtype: int64\n",
      "-------------------------\n",
      "United-States                 20396\n",
      "Mexico                          456\n",
      "?                               424\n",
      "Philippines                     143\n",
      "Germany                         100\n",
      "Canada                           87\n",
      "Puerto-Rico                      83\n",
      "El-Salvador                      78\n",
      "India                            65\n",
      "Cuba                             65\n",
      "England                          60\n",
      "Jamaica                          57\n",
      "South                            54\n",
      "China                            52\n",
      "Japan                            51\n",
      "Vietnam                          47\n",
      "Dominican-Republic               47\n",
      "Guatemala                        46\n",
      "Italy                            44\n",
      "Poland                           43\n",
      "Columbia                         38\n",
      "Taiwan                           32\n",
      "Haiti                            31\n",
      "Iran                             30\n",
      "Portugal                         28\n",
      "France                           25\n",
      "Peru                             22\n",
      "Nicaragua                        20\n",
      "Greece                           20\n",
      "Ecuador                          19\n",
      "Thailand                         16\n",
      "Ireland                          16\n",
      "Cambodia                         13\n",
      "Laos                             12\n",
      "Trinadad&Tobago                  12\n",
      "Yugoslavia                       12\n",
      "Hungary                          11\n",
      "Hong                             11\n",
      "Honduras                         10\n",
      "Outlying-US(Guam-USVI-etc)        9\n",
      "Scotland                          6\n",
      "Holand-Netherlands                1\n",
      "Name: native.country, dtype: int64\n",
      "-------------------------\n",
      "<=50K    17276\n",
      ">50K      5516\n",
      "Name: income, dtype: int64\n",
      "-------------------------\n"
     ]
    }
   ],
   "source": [
    "for column in nonNumCol: \n",
    "    print(data[column].value_counts())\n",
    "    print(\"-------------------------\")"
   ]
  },
  {
   "cell_type": "markdown",
   "metadata": {},
   "source": [
    "Under kan vi se noen kalkulerte verdier ut ifra tall-attributtene i datasettet. \n",
    "\n",
    "Det er 32561 mennesker i datasettet\n",
    "Gjennomsnittsalderen er 38 år\n",
    "Gjennomsnitts utdanningen er på 10, men husk at education.num er en annen attributt enn education. Vi ser at education.num bare er en numerisk representasjon av education. altså er Gjennomsnitts utdanningen 10 det samme som ungdomsskole utdanning.\n",
    "Vi ser også at det er flere som tjener penger enn at de taper penger ut ifra verdiene capital.gain og capital.loss.\n",
    "Gjennomsnittstimene per uke er som sagt tidligere 40 timer."
   ]
  },
  {
   "cell_type": "code",
   "execution_count": 11,
   "metadata": {},
   "outputs": [],
   "source": [
    "#Ikke helt sikker om dette er nødvendig. Alternativt kan ? erstattes med other eller de kan beholdes som en kategori.\n",
    "def erstattNull(data):\n",
    "    data[data == '?'] = np.nan\n",
    "    columns = data.columns[data.isna().any()].tolist()\n",
    "    for column in columns:\n",
    "        data[column].fillna(data[column].mode()[0], inplace=True)"
   ]
  },
  {
   "cell_type": "code",
   "execution_count": 12,
   "metadata": {},
   "outputs": [],
   "source": [
    "#erstattNull(data)\n",
    "#data.head()"
   ]
  },
  {
   "cell_type": "markdown",
   "metadata": {},
   "source": [
    "Vi har nå null verdier i workclass, occupation og native.country. Vi erstatter disse med medianen."
   ]
  },
  {
   "cell_type": "code",
   "execution_count": 13,
   "metadata": {},
   "outputs": [
    {
     "data": {
      "text/html": [
       "<div>\n",
       "<style scoped>\n",
       "    .dataframe tbody tr th:only-of-type {\n",
       "        vertical-align: middle;\n",
       "    }\n",
       "\n",
       "    .dataframe tbody tr th {\n",
       "        vertical-align: top;\n",
       "    }\n",
       "\n",
       "    .dataframe thead th {\n",
       "        text-align: right;\n",
       "    }\n",
       "</style>\n",
       "<table border=\"1\" class=\"dataframe\">\n",
       "  <thead>\n",
       "    <tr style=\"text-align: right;\">\n",
       "      <th></th>\n",
       "      <th>age</th>\n",
       "      <th>workclass</th>\n",
       "      <th>fnlwgt</th>\n",
       "      <th>education</th>\n",
       "      <th>education.num</th>\n",
       "      <th>marital.status</th>\n",
       "      <th>occupation</th>\n",
       "      <th>relationship</th>\n",
       "      <th>race</th>\n",
       "      <th>sex</th>\n",
       "      <th>capital.gain</th>\n",
       "      <th>capital.loss</th>\n",
       "      <th>hours.per.week</th>\n",
       "      <th>native.country</th>\n",
       "      <th>income</th>\n",
       "    </tr>\n",
       "  </thead>\n",
       "  <tbody>\n",
       "    <tr>\n",
       "      <th>30621</th>\n",
       "      <td>18</td>\n",
       "      <td>2</td>\n",
       "      <td>466325</td>\n",
       "      <td>1</td>\n",
       "      <td>7</td>\n",
       "      <td>4</td>\n",
       "      <td>1</td>\n",
       "      <td>3</td>\n",
       "      <td>4</td>\n",
       "      <td>1</td>\n",
       "      <td>0</td>\n",
       "      <td>0</td>\n",
       "      <td>12</td>\n",
       "      <td>39</td>\n",
       "      <td>0</td>\n",
       "    </tr>\n",
       "    <tr>\n",
       "      <th>1275</th>\n",
       "      <td>39</td>\n",
       "      <td>0</td>\n",
       "      <td>103986</td>\n",
       "      <td>11</td>\n",
       "      <td>9</td>\n",
       "      <td>4</td>\n",
       "      <td>0</td>\n",
       "      <td>1</td>\n",
       "      <td>4</td>\n",
       "      <td>1</td>\n",
       "      <td>0</td>\n",
       "      <td>1590</td>\n",
       "      <td>40</td>\n",
       "      <td>39</td>\n",
       "      <td>0</td>\n",
       "    </tr>\n",
       "    <tr>\n",
       "      <th>10671</th>\n",
       "      <td>30</td>\n",
       "      <td>6</td>\n",
       "      <td>176185</td>\n",
       "      <td>7</td>\n",
       "      <td>12</td>\n",
       "      <td>2</td>\n",
       "      <td>12</td>\n",
       "      <td>0</td>\n",
       "      <td>4</td>\n",
       "      <td>1</td>\n",
       "      <td>0</td>\n",
       "      <td>0</td>\n",
       "      <td>60</td>\n",
       "      <td>20</td>\n",
       "      <td>0</td>\n",
       "    </tr>\n",
       "    <tr>\n",
       "      <th>25007</th>\n",
       "      <td>26</td>\n",
       "      <td>6</td>\n",
       "      <td>68729</td>\n",
       "      <td>11</td>\n",
       "      <td>9</td>\n",
       "      <td>4</td>\n",
       "      <td>12</td>\n",
       "      <td>2</td>\n",
       "      <td>1</td>\n",
       "      <td>1</td>\n",
       "      <td>0</td>\n",
       "      <td>0</td>\n",
       "      <td>50</td>\n",
       "      <td>39</td>\n",
       "      <td>1</td>\n",
       "    </tr>\n",
       "    <tr>\n",
       "      <th>31901</th>\n",
       "      <td>26</td>\n",
       "      <td>4</td>\n",
       "      <td>746432</td>\n",
       "      <td>11</td>\n",
       "      <td>9</td>\n",
       "      <td>4</td>\n",
       "      <td>6</td>\n",
       "      <td>3</td>\n",
       "      <td>2</td>\n",
       "      <td>1</td>\n",
       "      <td>0</td>\n",
       "      <td>0</td>\n",
       "      <td>48</td>\n",
       "      <td>39</td>\n",
       "      <td>0</td>\n",
       "    </tr>\n",
       "  </tbody>\n",
       "</table>\n",
       "</div>"
      ],
      "text/plain": [
       "       age  workclass  fnlwgt  education  education.num  marital.status  \\\n",
       "30621   18          2  466325          1              7               4   \n",
       "1275    39          0  103986         11              9               4   \n",
       "10671   30          6  176185          7             12               2   \n",
       "25007   26          6   68729         11              9               4   \n",
       "31901   26          4  746432         11              9               4   \n",
       "\n",
       "       occupation  relationship  race  sex  capital.gain  capital.loss  \\\n",
       "30621           1             3     4    1             0             0   \n",
       "1275            0             1     4    1             0          1590   \n",
       "10671          12             0     4    1             0             0   \n",
       "25007          12             2     1    1             0             0   \n",
       "31901           6             3     2    1             0             0   \n",
       "\n",
       "       hours.per.week  native.country  income  \n",
       "30621              12              39       0  \n",
       "1275               40              39       0  \n",
       "10671              60              20       0  \n",
       "25007              50              39       1  \n",
       "31901              48              39       0  "
      ]
     },
     "execution_count": 13,
     "metadata": {},
     "output_type": "execute_result"
    }
   ],
   "source": [
    "catData = data.copy()\n",
    "changeToCat(catData, nonNumCol)\n",
    "catData.head()"
   ]
  },
  {
   "cell_type": "code",
   "execution_count": 14,
   "metadata": {},
   "outputs": [
    {
     "data": {
      "image/png": "[encoded data removed]",
      "text/plain": [
       "<Figure size 1440x1080 with 16 Axes>"
      ]
     },
     "metadata": {
      "needs_background": "light"
     },
     "output_type": "display_data"
    }
   ],
   "source": [
    "catData.hist(bins = 50, figsize = (20,15))\n",
    "plt.show()"
   ]
  },
  {
   "cell_type": "code",
   "execution_count": 15,
   "metadata": {},
   "outputs": [
    {
     "data": {
      "image/png": "[encoded data removed]",
      "text/plain": [
       "<Figure size 432x288 with 1 Axes>"
      ]
     },
     "metadata": {
      "needs_background": "light"
     },
     "output_type": "display_data"
    }
   ],
   "source": [
    "plt.hist(data['education'].value_counts(), bins=15, label='education', alpha=0.5)\n",
    "plt.hist(data['education.num'].value_counts(), bins=15, label='education.num', alpha=0.5)\n",
    "plt.legend(loc='best')\n",
    "plt.show()"
   ]
  },
  {
   "cell_type": "markdown",
   "metadata": {},
   "source": [
    "education.num og education er to variabler som sier det samme. Vi kan dermed dropp en av de."
   ]
  },
  {
   "cell_type": "code",
   "execution_count": 16,
   "metadata": {},
   "outputs": [],
   "source": [
    "data.drop('education', axis=1,inplace=True)"
   ]
  },
  {
   "cell_type": "code",
   "execution_count": 17,
   "metadata": {
    "scrolled": false
   },
   "outputs": [
    {
     "data": {
      "image/png": "[encoded data removed]",
      "text/plain": [
       "<Figure size 720x360 with 1 Axes>"
      ]
     },
     "metadata": {
      "needs_background": "light"
     },
     "output_type": "display_data"
    },
    {
     "data": {
      "image/png": "[encoded data removed]",
      "text/plain": [
       "<Figure size 720x360 with 1 Axes>"
      ]
     },
     "metadata": {
      "needs_background": "light"
     },
     "output_type": "display_data"
    },
    {
     "data": {
      "image/png": "[encoded data removed]",
      "text/plain": [
       "<Figure size 720x360 with 1 Axes>"
      ]
     },
     "metadata": {
      "needs_background": "light"
     },
     "output_type": "display_data"
    },
    {
     "data": {
      "image/png": "[encoded data removed]",
      "text/plain": [
       "<Figure size 720x360 with 1 Axes>"
      ]
     },
     "metadata": {
      "needs_background": "light"
     },
     "output_type": "display_data"
    },
    {
     "data": {
      "image/png": "[encoded data removed]",
      "text/plain": [
       "<Figure size 720x360 with 1 Axes>"
      ]
     },
     "metadata": {
      "needs_background": "light"
     },
     "output_type": "display_data"
    },
    {
     "data": {
      "image/png": "[encoded data removed]",
      "text/plain": [
       "<Figure size 720x360 with 1 Axes>"
      ]
     },
     "metadata": {
      "needs_background": "light"
     },
     "output_type": "display_data"
    },
    {
     "data": {
      "image/png": "[encoded data removed]",
      "text/plain": [
       "<Figure size 720x360 with 1 Axes>"
      ]
     },
     "metadata": {
      "needs_background": "light"
     },
     "output_type": "display_data"
    }
   ],
   "source": [
    "columns=['workclass', 'relationship', 'marital.status', 'race', 'sex', 'native.country', 'education.num']\n",
    "for column in columns:\n",
    "    plt.figure(figsize=(10,5))\n",
    "    a = sns.countplot(data[column], hue=data['income'])\n",
    "    a.set_xticklabels(a.get_xticklabels(), rotation=90)"
   ]
  },
  {
   "cell_type": "markdown",
   "metadata": {},
   "source": [
    "Vi prøver å samle rase, sivilstatus og opprinnelsesland i mindtre grupper slik at det ikke er et dominant datafelt."
   ]
  },
  {
   "cell_type": "code",
   "execution_count": 18,
   "metadata": {},
   "outputs": [],
   "source": [
    "combData = data.copy()\n",
    "combData['race'].replace(['Black', 'Asian-Pac-Islander','Amer-Indian-Eskimo'], 'Other', inplace=True)\n",
    "combData['marital.status'].replace(['Divorced', 'Widowed', 'Separated', 'Married-spouse-absent'], \n",
    "                                   'No-longer-married', inplace=True)\n",
    "combData['marital.status'].replace(['Married-AF-Spouse', 'Married-civ-spouse'], 'Married-present-spouse', inplace=True)\n",
    "combData.loc[~combData['native.country'].isin(['United-States']), 'native.country'] = 'Not-US'\n",
    "combData['capital.diff'] = combData['capital.gain']-combData['capital.loss']"
   ]
  },
  {
   "cell_type": "code",
   "execution_count": 19,
   "metadata": {},
   "outputs": [],
   "source": [
    "noEdu = nonNumCol.copy()\n",
    "noEdu.remove('education')"
   ]
  },
  {
   "cell_type": "code",
   "execution_count": 20,
   "metadata": {},
   "outputs": [
    {
     "data": {
      "text/plain": [
       "income            1.000000\n",
       "education.num     0.333550\n",
       "age               0.232189\n",
       "hours.per.week    0.228238\n",
       "capital.gain      0.224745\n",
       "sex               0.216284\n",
       "capital.diff      0.216183\n",
       "capital.loss      0.145166\n",
       "race              0.086405\n",
       "occupation        0.080453\n",
       "workclass         0.050373\n",
       "native.country    0.032687\n",
       "fnlwgt           -0.010225\n",
       "relationship     -0.249277\n",
       "marital.status   -0.380502\n",
       "Name: income, dtype: float64"
      ]
     },
     "execution_count": 20,
     "metadata": {},
     "output_type": "execute_result"
    }
   ],
   "source": [
    "changeToCat(combData, noEdu)\n",
    "\n",
    "combCor=combData.corr()\n",
    "combCor['income'].sort_values(ascending = False)"
   ]
  },
  {
   "cell_type": "code",
   "execution_count": 21,
   "metadata": {},
   "outputs": [
    {
     "data": {
      "text/plain": [
       "income            1.000000\n",
       "education.num     0.333550\n",
       "age               0.232189\n",
       "hours.per.week    0.228238\n",
       "capital.gain      0.224745\n",
       "sex               0.216284\n",
       "capital.loss      0.145166\n",
       "occupation        0.080453\n",
       "race              0.074598\n",
       "workclass         0.050373\n",
       "native.country    0.011279\n",
       "fnlwgt           -0.010225\n",
       "marital.status   -0.197028\n",
       "relationship     -0.249277\n",
       "Name: income, dtype: float64"
      ]
     },
     "execution_count": 21,
     "metadata": {},
     "output_type": "execute_result"
    }
   ],
   "source": [
    "numData=data.copy()\n",
    "changeToCat(numData, noEdu)\n",
    "\n",
    "kor=numData.corr()\n",
    "kor['income'].sort_values(ascending = False)"
   ]
  },
  {
   "cell_type": "code",
   "execution_count": 22,
   "metadata": {},
   "outputs": [
    {
     "data": {
      "text/plain": [
       "native.country    0.021408\n",
       "race              0.011806\n",
       "workclass         0.000000\n",
       "sex               0.000000\n",
       "relationship      0.000000\n",
       "occupation        0.000000\n",
       "income            0.000000\n",
       "hours.per.week    0.000000\n",
       "fnlwgt            0.000000\n",
       "education.num     0.000000\n",
       "capital.loss      0.000000\n",
       "capital.gain      0.000000\n",
       "age               0.000000\n",
       "marital.status   -0.183474\n",
       "capital.diff           NaN\n",
       "Name: income, dtype: float64"
      ]
     },
     "execution_count": 22,
     "metadata": {},
     "output_type": "execute_result"
    }
   ],
   "source": [
    "((combCor['income'])-(kor['income'])).sort_values(ascending = False)"
   ]
  },
  {
   "cell_type": "markdown",
   "metadata": {},
   "source": [
    "Innskrenkingen av rase, opphavsland og sivilstatus ser ut til å ha bedre sammen heng med inntekten. Differansen i kapital ser ikke ut til å være en bedre indikator enn tap og vinst."
   ]
  },
  {
   "cell_type": "markdown",
   "metadata": {},
   "source": [
    "## 3. Forbered dataene for trening og maskinlæringsalgoritmer"
   ]
  },
  {
   "cell_type": "code",
   "execution_count": 23,
   "metadata": {},
   "outputs": [],
   "source": [
    "from sklearn.preprocessing import StandardScaler\n",
    "from sklearn import preprocessing\n",
    "\n",
    "def scale(data):\n",
    "    scaler = StandardScaler()\n",
    "    scaler.fit(data)\n",
    "    return pd.DataFrame(scaler.transform(data))\n",
    "    \n",
    "def lbEnc(data, nonNumCol):\n",
    "    for column in nonNumCol:\n",
    "        le = preprocessing.LabelEncoder()\n",
    "        data[column] = le.fit_transform(data[column])\n",
    "\n",
    "def combiner(data):\n",
    "    data['race'].replace(['Black', 'Asian-Pac-Islander','Amer-Indian-Eskimo'], 'Other', inplace=True)\n",
    "    data['marital.status'].replace(['Divorced', 'Widowed', 'Separated', 'Married-spouse-absent'], \n",
    "                                   'No-longer-married', inplace=True)\n",
    "    data['marital.status'].replace(['Married-AF-Spouse', 'Married-civ-spouse'], 'Married-present-spouse', inplace=True)\n",
    "    data.loc[~data['native.country'].isin(['United-States']), 'native.country'] = 'Not-US'\n",
    "    data['capital.diff'] = data['capital.gain']-data['capital.loss']\n",
    "\n",
    "def remover(data):\n",
    "    data.drop('education', axis=1,inplace=True)\n",
    "        \n",
    "def readyData(data, nonNumCol):\n",
    "    remover(data)\n",
    "    combiner(data)\n",
    "    erstattNull(data)\n",
    "    lbEnc(data, nonNumCol)\n",
    "    return (scale(data))"
   ]
  },
  {
   "cell_type": "code",
   "execution_count": 24,
   "metadata": {},
   "outputs": [
    {
     "name": "stderr",
     "output_type": "stream",
     "text": [
      "C:\\Users\\Gudsteinn\\anaconda3\\lib\\site-packages\\pandas\\core\\ops\\array_ops.py:253: FutureWarning: elementwise comparison failed; returning scalar instead, but in the future will perform elementwise comparison\n",
      "  res_values = method(rvalues)\n"
     ]
    }
   ],
   "source": [
    "d = dataTrain.copy()\n",
    "pData = readyData(d, ['workclass', 'marital.status',\n",
    "                      'occupation', 'relationship', 'race', 'sex',\n",
    "                      'native.country'])\n",
    "target=trainTarget"
   ]
  },
  {
   "cell_type": "code",
   "execution_count": 25,
   "metadata": {},
   "outputs": [],
   "source": [
    "from sklearn.model_selection import cross_val_score"
   ]
  },
  {
   "cell_type": "code",
   "execution_count": 26,
   "metadata": {},
   "outputs": [
    {
     "data": {
      "text/plain": [
       "RandomForestClassifier()"
      ]
     },
     "execution_count": 26,
     "metadata": {},
     "output_type": "execute_result"
    }
   ],
   "source": [
    "from sklearn.ensemble import RandomForestClassifier\n",
    "\n",
    "forestReg = RandomForestClassifier()\n",
    "forestReg.fit(pData, target)"
   ]
  },
  {
   "cell_type": "code",
   "execution_count": 27,
   "metadata": {},
   "outputs": [
    {
     "data": {
      "text/plain": [
       "0.8603892834631429"
      ]
     },
     "execution_count": 27,
     "metadata": {},
     "output_type": "execute_result"
    }
   ],
   "source": [
    "forestRegScores = cross_val_score(forestReg, pData, target,\n",
    "                             scoring=\"accuracy\")\n",
    "sum(forestRegScores)/5"
   ]
  },
  {
   "cell_type": "code",
   "execution_count": 28,
   "metadata": {},
   "outputs": [
    {
     "data": {
      "text/plain": [
       "KNeighborsClassifier()"
      ]
     },
     "execution_count": 28,
     "metadata": {},
     "output_type": "execute_result"
    }
   ],
   "source": [
    "from sklearn.neighbors import KNeighborsClassifier\n",
    "\n",
    "knn = KNeighborsClassifier()\n",
    "knn.fit(pData, target)"
   ]
  },
  {
   "cell_type": "code",
   "execution_count": 29,
   "metadata": {},
   "outputs": [
    {
     "data": {
      "text/plain": [
       "0.8357755240852203"
      ]
     },
     "execution_count": 29,
     "metadata": {},
     "output_type": "execute_result"
    }
   ],
   "source": [
    "knnScore = cross_val_score(knn, pData, target,\n",
    "                         scoring='accuracy')\n",
    "sum(knnScore)/5"
   ]
  },
  {
   "cell_type": "code",
   "execution_count": 30,
   "metadata": {},
   "outputs": [
    {
     "data": {
      "text/plain": [
       "SVC()"
      ]
     },
     "execution_count": 30,
     "metadata": {},
     "output_type": "execute_result"
    }
   ],
   "source": [
    "from sklearn import svm\n",
    "\n",
    "svc = svm.SVC()\n",
    "svc.fit(pData, target)"
   ]
  },
  {
   "cell_type": "code",
   "execution_count": 31,
   "metadata": {},
   "outputs": [
    {
     "data": {
      "text/plain": [
       "0.8495082801562006"
      ]
     },
     "execution_count": 31,
     "metadata": {},
     "output_type": "execute_result"
    }
   ],
   "source": [
    "svcScore = cross_val_score(svc, pData, target,\n",
    "                         scoring='accuracy')\n",
    "sum(svcScore)/5"
   ]
  },
  {
   "cell_type": "code",
   "execution_count": 32,
   "metadata": {},
   "outputs": [
    {
     "data": {
      "text/plain": [
       "MLPClassifier(max_iter=800)"
      ]
     },
     "execution_count": 32,
     "metadata": {},
     "output_type": "execute_result"
    }
   ],
   "source": [
    "from sklearn.neural_network import MLPClassifier\n",
    "\n",
    "clf = MLPClassifier(max_iter=800)\n",
    "clf.fit(pData, target)"
   ]
  },
  {
   "cell_type": "code",
   "execution_count": 33,
   "metadata": {},
   "outputs": [
    {
     "data": {
      "text/plain": [
       "0.849201195269164"
      ]
     },
     "execution_count": 33,
     "metadata": {},
     "output_type": "execute_result"
    }
   ],
   "source": [
    "clfScore = cross_val_score(clf, pData, target,\n",
    "                           scoring=\"accuracy\")\n",
    "sum(clfScore)/5"
   ]
  },
  {
   "cell_type": "markdown",
   "metadata": {
    "colab_type": "text",
    "id": "wq7DERG3i3L5"
   },
   "source": [
    "# Juster modellen"
   ]
  },
  {
   "cell_type": "markdown",
   "metadata": {},
   "source": [
    "Den beste modellen vår er en random forrest classifier.\n",
    "For å forbedre denne prøver vi å kjøre den gjennom en grid search algoritme og en random search algoritme."
   ]
  },
  {
   "cell_type": "code",
   "execution_count": 34,
   "metadata": {},
   "outputs": [
    {
     "name": "stdout",
     "output_type": "stream",
     "text": [
      "{'max_features': 3, 'n_estimators': 90}\n",
      "0.8618371041046256\n"
     ]
    }
   ],
   "source": [
    "from sklearn.model_selection import GridSearchCV\n",
    "\n",
    "gridParameters = [\n",
    "                  {'n_estimators': [3, 10, 30, 60, 90, 120, 150], 'max_features': [2, 4, 3, 5, 7, 9]},\n",
    "                  {'bootstrap': [False], 'n_estimators': [3, 10, 30, 60], 'max_features': [2, 3, 4, 6]}\n",
    "                  ]\n",
    "gridSearch = GridSearchCV(RandomForestClassifier(), gridParameters, cv = 5, scoring=\"accuracy\")\n",
    "gridSearch.fit(pData, target)\n",
    "print(gridSearch.best_params_)\n",
    "print(gridSearch.best_score_)"
   ]
  },
  {
   "cell_type": "code",
   "execution_count": 35,
   "metadata": {},
   "outputs": [
    {
     "name": "stdout",
     "output_type": "stream",
     "text": [
      "{'n_estimators': 210}\n",
      "0.8619688274094581\n"
     ]
    }
   ],
   "source": [
    "from sklearn.model_selection import RandomizedSearchCV\n",
    "\n",
    "rSParam = [{'n_estimators': [3, 10, 30, 60, 90, 120, 150, 180, 210, 240, 270, 300]}]\n",
    "randomSearch = RandomizedSearchCV(RandomForestClassifier(),rSParam, n_iter = 10, scoring=\"accuracy\")\n",
    "randomSearch.fit(pData, target)\n",
    "print(randomSearch.best_params_)\n",
    "print(randomSearch.best_score_)"
   ]
  },
  {
   "cell_type": "markdown",
   "metadata": {},
   "source": [
    "Dette er den beste modellen vi har fått."
   ]
  },
  {
   "cell_type": "code",
   "execution_count": 36,
   "metadata": {},
   "outputs": [],
   "source": [
    "besteModel=randomSearch.best_estimator_"
   ]
  },
  {
   "cell_type": "code",
   "execution_count": 37,
   "metadata": {},
   "outputs": [],
   "source": [
    "from sklearn.metrics import accuracy_score"
   ]
  },
  {
   "cell_type": "code",
   "execution_count": 38,
   "metadata": {},
   "outputs": [
    {
     "name": "stderr",
     "output_type": "stream",
     "text": [
      "C:\\Users\\Gudsteinn\\anaconda3\\lib\\site-packages\\pandas\\core\\ops\\array_ops.py:253: FutureWarning: elementwise comparison failed; returning scalar instead, but in the future will perform elementwise comparison\n",
      "  res_values = method(rvalues)\n"
     ]
    }
   ],
   "source": [
    "dt = dataTest.copy()\n",
    "prosTest = readyData(dt, ['workclass', 'marital.status',\n",
    "                      'occupation', 'relationship', 'race', 'sex',\n",
    "                      'native.country'])"
   ]
  },
  {
   "cell_type": "code",
   "execution_count": 39,
   "metadata": {},
   "outputs": [],
   "source": [
    "pred = besteModel.predict(prosTest)"
   ]
  },
  {
   "cell_type": "markdown",
   "metadata": {},
   "source": [
    "## Sjekke modellen mot testsettet."
   ]
  },
  {
   "cell_type": "code",
   "execution_count": 40,
   "metadata": {},
   "outputs": [
    {
     "data": {
      "text/plain": [
       "0.8495240045040434"
      ]
     },
     "execution_count": 40,
     "metadata": {},
     "output_type": "execute_result"
    }
   ],
   "source": [
    "accuracy_score(testTarget, pred)"
   ]
  },
  {
   "cell_type": "code",
   "execution_count": 41,
   "metadata": {},
   "outputs": [],
   "source": [
    "from sklearn.metrics import confusion_matrix"
   ]
  },
  {
   "cell_type": "code",
   "execution_count": 42,
   "metadata": {},
   "outputs": [
    {
     "data": {
      "text/plain": [
       "array([[6891,  553],\n",
       "       [ 917, 1408]], dtype=int64)"
      ]
     },
     "execution_count": 42,
     "metadata": {},
     "output_type": "execute_result"
    }
   ],
   "source": [
    "confusion_matrix(testTarget, pred)"
   ]
  },
  {
   "cell_type": "code",
   "execution_count": 43,
   "metadata": {},
   "outputs": [],
   "source": [
    "from joblib import dump"
   ]
  },
  {
   "cell_type": "code",
   "execution_count": 44,
   "metadata": {},
   "outputs": [
    {
     "data": {
      "text/plain": [
       "['ACI_model.joblib']"
      ]
     },
     "execution_count": 44,
     "metadata": {},
     "output_type": "execute_result"
    }
   ],
   "source": [
    "dump(besteModel, \"ACI_model.joblib\", compress=3)"
   ]
  },
  {
   "cell_type": "markdown",
   "metadata": {},
   "source": [
    "Vi må finne ut hvordan vi laster opp data transformeringen."
   ]
  }
 ],
 "metadata": {
  "kernelspec": {
   "display_name": "Python 3",
   "language": "python",
   "name": "python3"
  },
  "language_info": {
   "codemirror_mode": {
    "name": "ipython",
    "version": 3
   },
   "file_extension": ".py",
   "mimetype": "text/x-python",
   "name": "python",
   "nbconvert_exporter": "python",
   "pygments_lexer": "ipython3",
   "version": "3.8.3"
  }
 },
 "nbformat": 4,
 "nbformat_minor": 4
}
